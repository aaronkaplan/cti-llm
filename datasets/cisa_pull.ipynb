{
 "cells": [
  {
   "cell_type": "code",
   "execution_count": null,
   "id": "ec71652c-80a0-4a65-924e-90896065c96e",
   "metadata": {
    "tags": []
   },
   "outputs": [
    {
     "name": "stdout",
     "output_type": "stream",
     "text": [
      "Page 0\n",
      "MAR-10448362-1.v1 Volt Typhoon\n",
      "MAR-10478915-1.v1 Citrix Bleed\n",
      "MAR-10430311-1.v1 Multiple Nation-State Threat Actors Exploit CVE-2022-47966 and CVE-2022-42475\n",
      "MAR-10454006.r5.v1 SUBMARINE, SKIPJACK, SEASPRAY, WHIRLPOOL, and SALTWATER Backdoors\n",
      "Infamous Chisel Malware Analysis Report\n",
      "MAR-10459736.r1.v1 WHIRLPOOL Backdoor\n",
      "MAR-10454006.r4.v2 SEASPY and WHIRLPOOL Backdoors\n",
      "MAR-10454006-r1.v2 SUBMARINE Backdoor\n",
      "MAR-10454006-r2.v1 SEASPY Backdoor\n"
     ]
    }
   ],
   "source": [
    "import requests\n",
    "from bs4 import BeautifulSoup\n",
    "import pandas as pd\n",
    "from urllib.parse import urlparse\n",
    "\n",
    "def get_filename(url: str):\n",
    "    try:\n",
    "        with requests.get(url) as req:\n",
    "            if content_disposition := req.headers.get(\"Content-Disposition\"):\n",
    "                param, options = werkzeug.http.parse_options_header(content_disposition)\n",
    "                if param == 'attachment' and (filename := options.get('filename')):\n",
    "                    return filename\n",
    "\n",
    "            path = urlparse(req.url).path\n",
    "            name = path[path.rfind('/') + 1:]\n",
    "            return name\n",
    "    except requests.exceptions.RequestException as e:\n",
    "        raise e\n",
    "        \n",
    "page_now = \"https://www.cisa.gov/news-events/cybersecurity-advisories?f%5B0%5D=advisory_type%3A65\"\n",
    "\n",
    "soup = BeautifulSoup(requests.get(page_now).content, \"html.parser\")\n",
    "\n",
    "index = []\n",
    "titles = soup.find_all(\"h3\",class_=\"c-teaser__title\")\n",
    "print(\"Page 0\")\n",
    "for title in titles:\n",
    "    ref_link = title.find_all(\"a\",href=True)\n",
    "    if len(ref_link) > 0:\n",
    "        article_name = ref_link[0].text.strip()\n",
    "        article_url = \"https://www.cisa.gov\" + ref_link[0]['href']\n",
    "        print(article_name)\n",
    "        \n",
    "        soup_report = BeautifulSoup(requests.get(article_url).content, \"html.parser\")\n",
    "        \n",
    "        downloads = soup_report.find_all(\"div\",class_=\"c-file__download\")\n",
    "        \n",
    "        for download in downloads:\n",
    "            down_link = download.find_all(\"a\",class_=\"c-file__link\",href=True)\n",
    "            file_name = down_link[0].text\n",
    "            file_url = \"https://www.cisa.gov\" + down_link[0]['href']\n",
    "            \n",
    "            info = {\"name\":article_name,\"url\":article_url,\"file_name\":file_name,\"file_url\":file_url}\n",
    "            index.append(info)\n",
    "            \n",
    "            r = requests.get(file_url, allow_redirects=True)\n",
    "            \n",
    "            original_name = get_filename(file_url)\n",
    "            \n",
    "            open(original_name, 'wb').write(r.content)\n",
    "\n",
    "            \n",
    "    else: continue\n",
    "    \n",
    "info_df = pd.DataFrame(index)\n",
    "info_df.to_csv(\"cisa_reports.csv\",index=False)"
   ]
  },
  {
   "cell_type": "code",
   "execution_count": null,
   "id": "05ef1d09-dae3-4916-9d28-f6f2ce506cf5",
   "metadata": {
    "tags": []
   },
   "outputs": [],
   "source": [
    "info_df.info()"
   ]
  },
  {
   "cell_type": "code",
   "execution_count": null,
   "id": "2515f3a0-4eaa-4038-afd7-e091bd41337f",
   "metadata": {},
   "outputs": [],
   "source": []
  }
 ],
 "metadata": {
  "kernelspec": {
   "display_name": "Python 3 (ipykernel)",
   "language": "python",
   "name": "python3"
  },
  "language_info": {
   "codemirror_mode": {
    "name": "ipython",
    "version": 3
   },
   "file_extension": ".py",
   "mimetype": "text/x-python",
   "name": "python",
   "nbconvert_exporter": "python",
   "pygments_lexer": "ipython3",
   "version": "3.10.13"
  }
 },
 "nbformat": 4,
 "nbformat_minor": 5
}
