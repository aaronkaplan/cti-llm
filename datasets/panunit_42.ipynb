{
 "cells": [
  {
   "cell_type": "code",
   "execution_count": 1,
   "id": "b4eb0a60-edaf-476a-9ea0-51384904601a",
   "metadata": {
    "tags": []
   },
   "outputs": [],
   "source": [
    "import json\n",
    "import requests\n",
    "import pandas as pd\n",
    "import os"
   ]
  },
  {
   "cell_type": "code",
   "execution_count": 2,
   "id": "957f5871-c9df-45ee-93aa-bcc5cefa2590",
   "metadata": {},
   "outputs": [
    {
     "name": "stdout",
     "output_type": "stream",
     "text": [
      "Loading playbooks\n",
      "Done!\n"
     ]
    }
   ],
   "source": [
    "r = requests.get(\"https://pan-unit42.github.io/playbook_viewer/playbooks.json\")\n",
    "\n",
    "index = []\n",
    "if r.status_code == 200:\n",
    "    print(\"Loading playbooks\")\n",
    "    \n",
    "    pb_list = r.json()\n",
    "    \n",
    "    for report in pb_list:\n",
    "        #print(f\"Title: {report['title']} File Name: {report['pb_file']}\")\n",
    "        stix_name = report['pb_file']\n",
    "        \n",
    "        #search pan unit 42 block\n",
    "        s = requests.get(f\"https://www.paloaltonetworks.com/search/unit42search#q={report['title']}\")\n",
    "        \n",
    "        if .status_code == 200:\n",
    "            print(\n",
    "        index.append({\"Title\":report['title'],\"File Name\":stix_name})\n",
    "        \n",
    "        if os.path.isfile(stix_name): continue\n",
    "        \n",
    "        with open(report['pb_file'],'w') as file:\n",
    "            headers = {'Content-type': 'application/json', 'Accept': 'text/plain'}\n",
    "            rf = requests.get(f\"https://pan-unit42.github.io/playbook_viewer/playbook_json/{stix_name}\",headers=headers)\n",
    "             \n",
    "            if r.status_code == 200:\n",
    "                json.dump(rf.json(),file)\n",
    "            else:\n",
    "                print(r.status_code)\n",
    "                \n",
    "    index_df = pd.DataFrame(index)\n",
    "    \n",
    "    print(\"Done!\")"
   ]
  },
  {
   "cell_type": "code",
   "execution_count": 3,
   "id": "15bfad84-4f0b-41d8-8355-d342055974e1",
   "metadata": {
    "tags": []
   },
   "outputs": [
    {
     "name": "stdout",
     "output_type": "stream",
     "text": [
      "<class 'pandas.core.frame.DataFrame'>\n",
      "RangeIndex: 83 entries, 0 to 82\n",
      "Data columns (total 2 columns):\n",
      " #   Column     Non-Null Count  Dtype \n",
      "---  ------     --------------  ----- \n",
      " 0   Title      83 non-null     object\n",
      " 1   File Name  83 non-null     object\n",
      "dtypes: object(2)\n",
      "memory usage: 1.4+ KB\n"
     ]
    }
   ],
   "source": [
    "index_df.info()"
   ]
  },
  {
   "cell_type": "code",
   "execution_count": 4,
   "id": "7228c808-dacd-44f3-a631-1b4103b046d5",
   "metadata": {
    "tags": []
   },
   "outputs": [
    {
     "data": {
      "text/html": [
       "<div>\n",
       "<style scoped>\n",
       "    .dataframe tbody tr th:only-of-type {\n",
       "        vertical-align: middle;\n",
       "    }\n",
       "\n",
       "    .dataframe tbody tr th {\n",
       "        vertical-align: top;\n",
       "    }\n",
       "\n",
       "    .dataframe thead th {\n",
       "        text-align: right;\n",
       "    }\n",
       "</style>\n",
       "<table border=\"1\" class=\"dataframe\">\n",
       "  <thead>\n",
       "    <tr style=\"text-align: right;\">\n",
       "      <th></th>\n",
       "      <th>Title</th>\n",
       "      <th>File Name</th>\n",
       "    </tr>\n",
       "  </thead>\n",
       "  <tbody>\n",
       "    <tr>\n",
       "      <th>0</th>\n",
       "      <td>EVASIVE SERPENS</td>\n",
       "      <td>evasive-serpens.json</td>\n",
       "    </tr>\n",
       "    <tr>\n",
       "      <th>1</th>\n",
       "      <td>FIGHTING URSA</td>\n",
       "      <td>fighting-ursa.json</td>\n",
       "    </tr>\n",
       "    <tr>\n",
       "      <th>2</th>\n",
       "      <td>PRYING LIBRA</td>\n",
       "      <td>pryinglibra.json</td>\n",
       "    </tr>\n",
       "    <tr>\n",
       "      <th>3</th>\n",
       "      <td>OBSCURE SERPENS</td>\n",
       "      <td>obscureserpens.json</td>\n",
       "    </tr>\n",
       "  </tbody>\n",
       "</table>\n",
       "</div>"
      ],
      "text/plain": [
       "             Title             File Name\n",
       "0  EVASIVE SERPENS  evasive-serpens.json\n",
       "1    FIGHTING URSA    fighting-ursa.json\n",
       "2     PRYING LIBRA      pryinglibra.json\n",
       "3  OBSCURE SERPENS   obscureserpens.json"
      ]
     },
     "execution_count": 4,
     "metadata": {},
     "output_type": "execute_result"
    }
   ],
   "source": [
    "index_df.head(4)"
   ]
  },
  {
   "cell_type": "code",
   "execution_count": 5,
   "id": "ef92a75e-9056-4156-84c5-d334743dea86",
   "metadata": {
    "tags": []
   },
   "outputs": [
    {
     "data": {
      "text/html": [
       "<div>\n",
       "<style scoped>\n",
       "    .dataframe tbody tr th:only-of-type {\n",
       "        vertical-align: middle;\n",
       "    }\n",
       "\n",
       "    .dataframe tbody tr th {\n",
       "        vertical-align: top;\n",
       "    }\n",
       "\n",
       "    .dataframe thead th {\n",
       "        text-align: right;\n",
       "    }\n",
       "</style>\n",
       "<table border=\"1\" class=\"dataframe\">\n",
       "  <thead>\n",
       "    <tr style=\"text-align: right;\">\n",
       "      <th></th>\n",
       "      <th>Title</th>\n",
       "      <th>File Name</th>\n",
       "    </tr>\n",
       "  </thead>\n",
       "  <tbody>\n",
       "    <tr>\n",
       "      <th>79</th>\n",
       "      <td>TRIGONA-RANSOMWARE</td>\n",
       "      <td>trigona-ransomware.json</td>\n",
       "    </tr>\n",
       "    <tr>\n",
       "      <th>80</th>\n",
       "      <td>JAVASCRIPT-INJECTION</td>\n",
       "      <td>javascript-injection.json</td>\n",
       "    </tr>\n",
       "    <tr>\n",
       "      <th>81</th>\n",
       "      <td>CRYPTOCLIPPY</td>\n",
       "      <td>cryptoclippy.json</td>\n",
       "    </tr>\n",
       "    <tr>\n",
       "      <th>82</th>\n",
       "      <td>MUDDLED LIBRA</td>\n",
       "      <td>muddled-libra.json</td>\n",
       "    </tr>\n",
       "  </tbody>\n",
       "</table>\n",
       "</div>"
      ],
      "text/plain": [
       "                   Title                  File Name\n",
       "79    TRIGONA-RANSOMWARE    trigona-ransomware.json\n",
       "80  JAVASCRIPT-INJECTION  javascript-injection.json\n",
       "81          CRYPTOCLIPPY          cryptoclippy.json\n",
       "82         MUDDLED LIBRA         muddled-libra.json"
      ]
     },
     "execution_count": 5,
     "metadata": {},
     "output_type": "execute_result"
    }
   ],
   "source": [
    "index_df.tail(4)"
   ]
  },
  {
   "cell_type": "code",
   "execution_count": 6,
   "id": "585b1475-9285-46c2-bb56-cb7748e5c863",
   "metadata": {
    "tags": []
   },
   "outputs": [],
   "source": [
    "index_df.to_csv(\"pan_unit42.csv\",index=False)"
   ]
  },
  {
   "cell_type": "code",
   "execution_count": null,
   "id": "b60d5d09-d76f-49d7-8386-fd9e0bee3072",
   "metadata": {},
   "outputs": [],
   "source": []
  }
 ],
 "metadata": {
  "kernelspec": {
   "display_name": "Python 3 (ipykernel)",
   "language": "python",
   "name": "python3"
  },
  "language_info": {
   "codemirror_mode": {
    "name": "ipython",
    "version": 3
   },
   "file_extension": ".py",
   "mimetype": "text/x-python",
   "name": "python",
   "nbconvert_exporter": "python",
   "pygments_lexer": "ipython3",
   "version": "3.10.13"
  }
 },
 "nbformat": 4,
 "nbformat_minor": 5
}
