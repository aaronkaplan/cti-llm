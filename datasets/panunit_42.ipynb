{
 "cells": [
  {
   "cell_type": "code",
   "execution_count": 1,
   "id": "b4eb0a60-edaf-476a-9ea0-51384904601a",
   "metadata": {
    "tags": []
   },
   "outputs": [],
   "source": [
    "import json\n",
    "import requests\n",
    "import pandas as pd\n",
    "import os\n",
    "from bs4 import BeautifulSoup"
   ]
  },
  {
   "cell_type": "code",
   "execution_count": 2,
   "id": "a4148d43-78ff-4286-9256-aa2fb96f1ddb",
   "metadata": {
    "tags": []
   },
   "outputs": [
    {
     "data": {
      "text/plain": [
       "True"
      ]
     },
     "execution_count": 2,
     "metadata": {},
     "output_type": "execute_result"
    }
   ],
   "source": [
    "from dotenv import load_dotenv\n",
    "\n",
    "load_dotenv()  # take environment variables from .env."
   ]
  },
  {
   "cell_type": "code",
   "execution_count": 3,
   "id": "553659e7-444f-4c78-80a9-7203395a8ab0",
   "metadata": {
    "tags": []
   },
   "outputs": [],
   "source": [
    "from langchain_community.utilities import GoogleSerperAPIWrapper\n",
    "search = GoogleSerperAPIWrapper()"
   ]
  },
  {
   "cell_type": "code",
   "execution_count": 4,
   "id": "957f5871-c9df-45ee-93aa-bcc5cefa2590",
   "metadata": {},
   "outputs": [
    {
     "name": "stdout",
     "output_type": "stream",
     "text": [
      "Loading playbooks\n",
      "https://www.paloaltonetworks.com/search/unit42search#q=EVASIVE%20SERPENS\n",
      "https://www.paloaltonetworks.com/search/unit42search#q=FIGHTING%20URSA\n",
      "https://www.paloaltonetworks.com/search/unit42search#q=PRYING%20LIBRA\n",
      "https://www.paloaltonetworks.com/search/unit42search#q=OBSCURE%20SERPENS\n",
      "https://www.paloaltonetworks.com/search/unit42search#q=MOLDY%20PISCES\n",
      "https://www.paloaltonetworks.com/search/unit42search#q=RANCOR%20TAURUS\n",
      "https://www.paloaltonetworks.com/search/unit42search#q=STALKER%20TAURUS\n",
      "https://www.paloaltonetworks.com/search/unit42search#q=SHALLOW%20TAURUS\n",
      "https://www.paloaltonetworks.com/search/unit42search#q=GRANITE%20TAURUS\n",
      "https://www.paloaltonetworks.com/search/unit42search#q=IRON%20TAURUS\n",
      "https://www.paloaltonetworks.com/search/unit42search#q=BOGGY%20SERPENS\n",
      "https://www.paloaltonetworks.com/search/unit42search#q=RADIO%20SERPENS\n",
      "https://www.paloaltonetworks.com/search/unit42search#q=AGED%20LIBRA\n",
      "https://www.paloaltonetworks.com/search/unit42search#q=MULE%20LIBRA\n",
      "https://www.paloaltonetworks.com/search/unit42search#q=CLEAN%20URSA\n",
      "https://www.paloaltonetworks.com/search/unit42search#q=PASTY%20DRACO\n",
      "https://www.paloaltonetworks.com/search/unit42search#q=GOLFING%20TAURUS\n",
      "https://www.paloaltonetworks.com/search/unit42search#q=CRAWLING%20TAURUS\n",
      "https://www.paloaltonetworks.com/search/unit42search#q=WINDY%20PHOENIX\n",
      "https://www.paloaltonetworks.com/search/unit42search#q=STATELY%20TAURUS\n",
      "https://www.paloaltonetworks.com/search/unit42search#q=CROOKED%20PISCES\n",
      "https://www.paloaltonetworks.com/search/unit42search#q=HUNTER%20SERPENS\n",
      "https://www.paloaltonetworks.com/search/unit42search#q=MAZE%20RANSOMWARE\n",
      "https://www.paloaltonetworks.com/search/unit42search#q=ACIDBOX%20MALWARE\n",
      "https://www.paloaltonetworks.com/search/unit42search#q=EKANS%20RANSOMWARE\n",
      "https://www.paloaltonetworks.com/search/unit42search#q=WASTEDLOCKER%20RANSOMWARE\n",
      "https://www.paloaltonetworks.com/search/unit42search#q=ADEPT%20LIBRA\n",
      "https://www.paloaltonetworks.com/search/unit42search#q=RYUK%20RANSOMWARE\n",
      "https://www.paloaltonetworks.com/search/unit42search#q=TRICKBOT%20MALWARE\n",
      "https://www.paloaltonetworks.com/search/unit42search#q=EGREGOR%20RANSOMWARE\n",
      "https://www.paloaltonetworks.com/search/unit42search#q=SOLAR%20PHOENIX\n",
      "https://www.paloaltonetworks.com/search/unit42search#q=MONSTER%20LIBRA\n",
      "https://www.paloaltonetworks.com/search/unit42search#q=MANGA%20TAURUS\n",
      "https://www.paloaltonetworks.com/search/unit42search#q=ZERO-DAY-MICROSOFT-EXCHANGE-VULNERABILITIES\n",
      "https://www.paloaltonetworks.com/search/unit42search#q=DEARCRY%20RANSOMWARE\n",
      "https://www.paloaltonetworks.com/search/unit42search#q=CLOP%20RANSOMWARE\n",
      "https://www.paloaltonetworks.com/search/unit42search#q=DARKSIDE%20RANSOMWARE\n",
      "https://www.paloaltonetworks.com/search/unit42search#q=PROMETHEUS%20RANSOMWARE\n",
      "https://www.paloaltonetworks.com/search/unit42search#q=CONTI%20RANSOMWARE\n",
      "https://www.paloaltonetworks.com/search/unit42search#q=REVIL%20RANSOMWARE\n",
      "https://www.paloaltonetworks.com/search/unit42search#q=MESPINOZA%20RANSOMWARE\n",
      "https://www.paloaltonetworks.com/search/unit42search#q=HIVE%20RANSOMWARE\n",
      "https://www.paloaltonetworks.com/search/unit42search#q=HELLOKITTY%20RANSOMWARE\n",
      "https://www.paloaltonetworks.com/search/unit42search#q=AVOSLOCKER%20RANSOMWARE\n",
      "https://www.paloaltonetworks.com/search/unit42search#q=LOCKBIT-2.0%20RANSOMWARE\n",
      "https://www.paloaltonetworks.com/search/unit42search#q=TILTEDTEMPLE%20CAMPAIGN\n",
      "https://www.paloaltonetworks.com/search/unit42search#q=RUINOUS%20URSA\n",
      "https://www.paloaltonetworks.com/search/unit42search#q=AGENT%20TESLA\n",
      "https://www.paloaltonetworks.com/search/unit42search#q=BLACKCAT%20RANSOMWARE\n",
      "https://www.paloaltonetworks.com/search/unit42search#q=TRIDENT%20URSA\n",
      "https://www.paloaltonetworks.com/search/unit42search#q=HERMETICWIPER%20MALWARE\n",
      "https://www.paloaltonetworks.com/search/unit42search#q=NASCENT%20URSA\n",
      "https://www.paloaltonetworks.com/search/unit42search#q=THIEF%20LIBRA\n",
      "https://www.paloaltonetworks.com/search/unit42search#q=MONEY%20LIBRA\n",
      "https://www.paloaltonetworks.com/search/unit42search#q=RETURNED%20LIBRA\n",
      "https://www.paloaltonetworks.com/search/unit42search#q=SOLARMARKER%20MALWARE\n",
      "https://www.paloaltonetworks.com/search/unit42search#q=F5-BIG-IP%20CVE-2022-1388\n",
      "https://www.paloaltonetworks.com/search/unit42search#q=EMOTET%20MALWARE\n",
      "https://www.paloaltonetworks.com/search/unit42search#q=VMWARE%20VULNERABILITIES\n",
      "https://www.paloaltonetworks.com/search/unit42search#q=POPPING-EAGLE%20MALWARE\n",
      "https://www.paloaltonetworks.com/search/unit42search#q=ATLASSIAN-CONFLUENCE-CVE-2022-26134\n",
      "https://www.paloaltonetworks.com/search/unit42search#q=BRUTE-RATEL%20TOOL\n",
      "https://www.paloaltonetworks.com/search/unit42search#q=CHROMELOADER\n",
      "https://www.paloaltonetworks.com/search/unit42search#q=API-HAMMERING-TECHNIQUE\n",
      "https://www.paloaltonetworks.com/search/unit42search#q=WEB-SHELLS-IN-DIGIUM-PHONES\n",
      "https://www.paloaltonetworks.com/search/unit42search#q=THIRSTY%20GEMINI\n",
      "https://www.paloaltonetworks.com/search/unit42search#q=CLOAKED%20URSA\n",
      "https://www.paloaltonetworks.com/search/unit42search#q=PROJECTOR%20LIBRA\n",
      "https://www.paloaltonetworks.com/search/unit42search#q=TROPICAL%20SCORPIUS\n",
      "https://www.paloaltonetworks.com/search/unit42search#q=BLACK%20BASTA%20RANSOMWARE\n",
      "https://www.paloaltonetworks.com/search/unit42search#q=ICEDID%20MALWARE\n",
      "https://www.paloaltonetworks.com/search/unit42search#q=RANSOM-CARTEL%20RANSOMWARE\n",
      "https://www.paloaltonetworks.com/search/unit42search#q=BLUESKY%20RANSOMWARE\n",
      "https://www.paloaltonetworks.com/search/unit42search#q=VICE-SOCIETY%20RANSOMWARE\n",
      "https://www.paloaltonetworks.com/search/unit42search#q=OWASSRF-VULNERABILITY%20EXPLOITATION\n",
      "https://www.paloaltonetworks.com/search/unit42search#q=PLAYFUL%20TAURUS\n",
      "https://www.paloaltonetworks.com/search/unit42search#q=PLUGX%20MALWARE\n",
      "https://www.paloaltonetworks.com/search/unit42search#q=LOKIBOT\n",
      "https://www.paloaltonetworks.com/search/unit42search#q=GOBRUTEFORCER\n",
      "https://www.paloaltonetworks.com/search/unit42search#q=TRIGONA-RANSOMWARE\n",
      "https://www.paloaltonetworks.com/search/unit42search#q=JAVASCRIPT-INJECTION\n",
      "https://www.paloaltonetworks.com/search/unit42search#q=CRYPTOCLIPPY\n",
      "https://www.paloaltonetworks.com/search/unit42search#q=MUDDLED%20LIBRA\n",
      "Done!\n"
     ]
    }
   ],
   "source": [
    "r = requests.get(\"https://pan-unit42.github.io/playbook_viewer/playbooks.json\")\n",
    "\n",
    "index = []\n",
    "if r.status_code == 200:\n",
    "    print(\"Loading playbooks\")\n",
    "    \n",
    "    pb_list = r.json()\n",
    "    \n",
    "    for report in pb_list:\n",
    "        #print(f\"Title: {report['title']} File Name: {report['pb_file']}\")\n",
    "        stix_name = report['pb_file']\n",
    "        \n",
    "        #search pan unit 42 block\n",
    "        r_search = requests.get(f\"https://www.paloaltonetworks.com/search/unit42search#q={report['title']}\")\n",
    "        \n",
    "        if r_search.status_code == 200:\n",
    "            print(r_search.url)\n",
    "            soup = BeautifulSoup(r_search.content, \"html.parser\")\n",
    "            titles = soup.find_all(\"a\")\n",
    "\n",
    "        results = search.results(f\"{report['title']} report from Unit42\")\n",
    "\n",
    "        blog_found = False\n",
    "        if 'organic' in results:\n",
    "            for result in results['organic']:\n",
    "                if 'unit42' in result['link']:\n",
    "                    index.append({\"Title\":report['title'],\"File Name\":stix_name,\"Blog Title\":result['title'],\"Blog URL\":result['link']})  \n",
    "                    blog_found = True\n",
    "                    \n",
    "        if blog_found == False:\n",
    "            # could not find a blog\n",
    "            index.append({\"Title\":report['title'],\"File Name\":stix_name,\"Blog Title\":None,\"Blog URL\":None})\n",
    "        \n",
    "        if os.path.isfile(stix_name): continue\n",
    "        \n",
    "        with open(report['pb_file'],'w') as file:\n",
    "            headers = {'Content-type': 'application/json', 'Accept': 'text/plain'}\n",
    "            rf = requests.get(f\"https://pan-unit42.github.io/playbook_viewer/playbook_json/{stix_name}\",headers=headers)\n",
    "             \n",
    "            if r.status_code == 200:\n",
    "                json.dump(rf.json(),file)\n",
    "            else:\n",
    "                print(r.status_code)\n",
    "                \n",
    "    index_df = pd.DataFrame(index)\n",
    "    \n",
    "    print(\"Done!\")"
   ]
  },
  {
   "cell_type": "code",
   "execution_count": 5,
   "id": "15bfad84-4f0b-41d8-8355-d342055974e1",
   "metadata": {
    "tags": []
   },
   "outputs": [
    {
     "name": "stdout",
     "output_type": "stream",
     "text": [
      "<class 'pandas.core.frame.DataFrame'>\n",
      "RangeIndex: 299 entries, 0 to 298\n",
      "Data columns (total 4 columns):\n",
      " #   Column      Non-Null Count  Dtype \n",
      "---  ------      --------------  ----- \n",
      " 0   Title       299 non-null    object\n",
      " 1   File Name   299 non-null    object\n",
      " 2   Blog Title  280 non-null    object\n",
      " 3   Blog URL    280 non-null    object\n",
      "dtypes: object(4)\n",
      "memory usage: 9.5+ KB\n"
     ]
    }
   ],
   "source": [
    "index_df.info()"
   ]
  },
  {
   "cell_type": "code",
   "execution_count": 6,
   "id": "7228c808-dacd-44f3-a631-1b4103b046d5",
   "metadata": {
    "tags": []
   },
   "outputs": [
    {
     "data": {
      "text/html": [
       "<div>\n",
       "<style scoped>\n",
       "    .dataframe tbody tr th:only-of-type {\n",
       "        vertical-align: middle;\n",
       "    }\n",
       "\n",
       "    .dataframe tbody tr th {\n",
       "        vertical-align: top;\n",
       "    }\n",
       "\n",
       "    .dataframe thead th {\n",
       "        text-align: right;\n",
       "    }\n",
       "</style>\n",
       "<table border=\"1\" class=\"dataframe\">\n",
       "  <thead>\n",
       "    <tr style=\"text-align: right;\">\n",
       "      <th></th>\n",
       "      <th>Title</th>\n",
       "      <th>File Name</th>\n",
       "      <th>Blog Title</th>\n",
       "      <th>Blog URL</th>\n",
       "    </tr>\n",
       "  </thead>\n",
       "  <tbody>\n",
       "    <tr>\n",
       "      <th>0</th>\n",
       "      <td>EVASIVE SERPENS</td>\n",
       "      <td>evasive-serpens.json</td>\n",
       "      <td>Agonizing Serpens (Aka Agrius) Targeting the I...</td>\n",
       "      <td>https://unit42.paloaltonetworks.com/agonizing-...</td>\n",
       "    </tr>\n",
       "    <tr>\n",
       "      <th>1</th>\n",
       "      <td>EVASIVE SERPENS</td>\n",
       "      <td>evasive-serpens.json</td>\n",
       "      <td>pan-unit42/playbook_viewer - GitHub</td>\n",
       "      <td>https://github.com/pan-unit42/playbook_viewer</td>\n",
       "    </tr>\n",
       "    <tr>\n",
       "      <th>2</th>\n",
       "      <td>EVASIVE SERPENS</td>\n",
       "      <td>evasive-serpens.json</td>\n",
       "      <td>Than Meets the Eye: Exposing a Polyglot File T...</td>\n",
       "      <td>https://unit42.paloaltonetworks.com/polyglot-f...</td>\n",
       "    </tr>\n",
       "    <tr>\n",
       "      <th>3</th>\n",
       "      <td>FIGHTING URSA</td>\n",
       "      <td>fighting-ursa.json</td>\n",
       "      <td>Fighting Ursa Aka APT28: Illuminating a Covert...</td>\n",
       "      <td>https://unit42.paloaltonetworks.com/russian-ap...</td>\n",
       "    </tr>\n",
       "  </tbody>\n",
       "</table>\n",
       "</div>"
      ],
      "text/plain": [
       "             Title             File Name  \\\n",
       "0  EVASIVE SERPENS  evasive-serpens.json   \n",
       "1  EVASIVE SERPENS  evasive-serpens.json   \n",
       "2  EVASIVE SERPENS  evasive-serpens.json   \n",
       "3    FIGHTING URSA    fighting-ursa.json   \n",
       "\n",
       "                                          Blog Title  \\\n",
       "0  Agonizing Serpens (Aka Agrius) Targeting the I...   \n",
       "1                pan-unit42/playbook_viewer - GitHub   \n",
       "2  Than Meets the Eye: Exposing a Polyglot File T...   \n",
       "3  Fighting Ursa Aka APT28: Illuminating a Covert...   \n",
       "\n",
       "                                            Blog URL  \n",
       "0  https://unit42.paloaltonetworks.com/agonizing-...  \n",
       "1      https://github.com/pan-unit42/playbook_viewer  \n",
       "2  https://unit42.paloaltonetworks.com/polyglot-f...  \n",
       "3  https://unit42.paloaltonetworks.com/russian-ap...  "
      ]
     },
     "execution_count": 6,
     "metadata": {},
     "output_type": "execute_result"
    }
   ],
   "source": [
    "index_df.head(4)"
   ]
  },
  {
   "cell_type": "code",
   "execution_count": 7,
   "id": "ef92a75e-9056-4156-84c5-d334743dea86",
   "metadata": {
    "tags": []
   },
   "outputs": [
    {
     "data": {
      "text/html": [
       "<div>\n",
       "<style scoped>\n",
       "    .dataframe tbody tr th:only-of-type {\n",
       "        vertical-align: middle;\n",
       "    }\n",
       "\n",
       "    .dataframe tbody tr th {\n",
       "        vertical-align: top;\n",
       "    }\n",
       "\n",
       "    .dataframe thead th {\n",
       "        text-align: right;\n",
       "    }\n",
       "</style>\n",
       "<table border=\"1\" class=\"dataframe\">\n",
       "  <thead>\n",
       "    <tr style=\"text-align: right;\">\n",
       "      <th></th>\n",
       "      <th>Title</th>\n",
       "      <th>File Name</th>\n",
       "      <th>Blog Title</th>\n",
       "      <th>Blog URL</th>\n",
       "    </tr>\n",
       "  </thead>\n",
       "  <tbody>\n",
       "    <tr>\n",
       "      <th>295</th>\n",
       "      <td>MUDDLED LIBRA</td>\n",
       "      <td>muddled-libra.json</td>\n",
       "      <td>Phishing Archives - Unit 42</td>\n",
       "      <td>https://unit42.paloaltonetworks.com/tag/phishing/</td>\n",
       "    </tr>\n",
       "    <tr>\n",
       "      <th>296</th>\n",
       "      <td>MUDDLED LIBRA</td>\n",
       "      <td>muddled-libra.json</td>\n",
       "      <td>Resilient Cybersecurity Tactics for CISOs - Pa...</td>\n",
       "      <td>https://www.paloaltonetworks.com.au/resources/...</td>\n",
       "    </tr>\n",
       "    <tr>\n",
       "      <th>297</th>\n",
       "      <td>MUDDLED LIBRA</td>\n",
       "      <td>muddled-libra.json</td>\n",
       "      <td>Scattered Spider Archives - Unit 42 - Palo Alt...</td>\n",
       "      <td>https://unit42.paloaltonetworks.com/tag/scatte...</td>\n",
       "    </tr>\n",
       "    <tr>\n",
       "      <th>298</th>\n",
       "      <td>MUDDLED LIBRA</td>\n",
       "      <td>muddled-libra.json</td>\n",
       "      <td>Unit 42 Threat Intel Bulletin - August - LinkedIn</td>\n",
       "      <td>https://www.linkedin.com/pulse/unit-42-threat-...</td>\n",
       "    </tr>\n",
       "  </tbody>\n",
       "</table>\n",
       "</div>"
      ],
      "text/plain": [
       "             Title           File Name  \\\n",
       "295  MUDDLED LIBRA  muddled-libra.json   \n",
       "296  MUDDLED LIBRA  muddled-libra.json   \n",
       "297  MUDDLED LIBRA  muddled-libra.json   \n",
       "298  MUDDLED LIBRA  muddled-libra.json   \n",
       "\n",
       "                                            Blog Title  \\\n",
       "295                        Phishing Archives - Unit 42   \n",
       "296  Resilient Cybersecurity Tactics for CISOs - Pa...   \n",
       "297  Scattered Spider Archives - Unit 42 - Palo Alt...   \n",
       "298  Unit 42 Threat Intel Bulletin - August - LinkedIn   \n",
       "\n",
       "                                              Blog URL  \n",
       "295  https://unit42.paloaltonetworks.com/tag/phishing/  \n",
       "296  https://www.paloaltonetworks.com.au/resources/...  \n",
       "297  https://unit42.paloaltonetworks.com/tag/scatte...  \n",
       "298  https://www.linkedin.com/pulse/unit-42-threat-...  "
      ]
     },
     "execution_count": 7,
     "metadata": {},
     "output_type": "execute_result"
    }
   ],
   "source": [
    "index_df.tail(4)"
   ]
  },
  {
   "cell_type": "code",
   "execution_count": 8,
   "id": "585b1475-9285-46c2-bb56-cb7748e5c863",
   "metadata": {
    "tags": []
   },
   "outputs": [],
   "source": [
    "index_df.to_csv(\"pan_unit42.csv\",index=False)"
   ]
  },
  {
   "cell_type": "code",
   "execution_count": null,
   "id": "b60d5d09-d76f-49d7-8386-fd9e0bee3072",
   "metadata": {},
   "outputs": [],
   "source": []
  }
 ],
 "metadata": {
  "kernelspec": {
   "display_name": "Python 3 (ipykernel)",
   "language": "python",
   "name": "python3"
  },
  "language_info": {
   "codemirror_mode": {
    "name": "ipython",
    "version": 3
   },
   "file_extension": ".py",
   "mimetype": "text/x-python",
   "name": "python",
   "nbconvert_exporter": "python",
   "pygments_lexer": "ipython3",
   "version": "3.10.13"
  }
 },
 "nbformat": 4,
 "nbformat_minor": 5
}
